{
  "nbformat": 4,
  "nbformat_minor": 0,
  "metadata": {
    "colab": {
      "provenance": []
    },
    "kernelspec": {
      "name": "python3",
      "display_name": "Python 3"
    },
    "language_info": {
      "name": "python"
    }
  },
  "cells": [
    {
      "cell_type": "markdown",
      "source": [
        "# **what is mean by Pydantic in Flask**"
      ],
      "metadata": {
        "id": "8_LtzOUyrk30"
      }
    },
    {
      "cell_type": "markdown",
      "source": [
        "**Type safety with Pydantic in Flask means ensuring that incoming request data follows the correct format and types. This helps prevent errors and makes the application more reliable.**"
      ],
      "metadata": {
        "id": "Vsxk3DWHrsYm"
      }
    },
    {
      "cell_type": "markdown",
      "source": [
        "# **How It Works:**\n",
        "\n",
        "If valid data is sent ({\"name\": \"John\", \"age\": 25}), it returns a success message.\n",
        "\n",
        "If incorrect data is sent ({\"name\": \"John\", \"age\": \"twenty-five\"}), it returns a validation error."
      ],
      "metadata": {
        "id": "6wVhGd28rwsC"
      }
    },
    {
      "cell_type": "markdown",
      "source": [
        "# **Key Features of Pydantic**"
      ],
      "metadata": {
        "id": "CHQ6d9ndshy6"
      }
    },
    {
      "cell_type": "markdown",
      "source": [
        "Data Validation: Automatically checks if data matches the specified types and raises errors if not.\n",
        "\n",
        "Type Inference: Uses Python's type hints to determine field types for clear model definitions.\n",
        "\n",
        "Serialization and Deserialization: Easily converts models to and from JSON, ideal for APIs.\n",
        "\n",
        "Custom Validators: Allows defining custom validation rules for complex data requirements.\n",
        "\n",
        "Integration with FastAPI: Works seamlessly with FastAPI and can be used in Flask and other frameworks."
      ],
      "metadata": {
        "id": "Z5m9CNQksY6v"
      }
    },
    {
      "cell_type": "markdown",
      "source": [
        "# **Installing Pydantic**"
      ],
      "metadata": {
        "id": "gPEZ2Xp6sxjj"
      }
    },
    {
      "cell_type": "markdown",
      "source": [
        "**To get started with Pydantic, you need to install it. You can do this using pip:**"
      ],
      "metadata": {
        "id": "0OUP27GQs1_-"
      }
    },
    {
      "cell_type": "markdown",
      "source": [
        "\n",
        "\n",
        "```\n",
        "pip install pydantic\n",
        "```\n",
        "\n"
      ],
      "metadata": {
        "id": "4AuOnAa3s8N3"
      }
    },
    {
      "cell_type": "markdown",
      "source": [
        "# **Creating Pydantic Models**"
      ],
      "metadata": {
        "id": "gy8khysetCMw"
      }
    },
    {
      "cell_type": "markdown",
      "source": [
        "**Pydantic models are created by subclassing pydantic.BaseModel. Each attribute of the model is defined with a type annotation. Here’s a simple example:**"
      ],
      "metadata": {
        "id": "NvtwlAx0tGMf"
      }
    },
    {
      "cell_type": "markdown",
      "source": [
        "\n",
        "\n",
        "```\n",
        "from pydantic import BaseModel\n",
        "\n",
        "class User(BaseModel):\n",
        "    id: int\n",
        "    name: str\n",
        "    email: str\n",
        "```\n",
        "\n"
      ],
      "metadata": {
        "id": "Pj3DgEAPtKxF"
      }
    },
    {
      "cell_type": "markdown",
      "source": [
        "In this example, we defined a User model with three fields: id, name, and email. Each field has a specified type."
      ],
      "metadata": {
        "id": "PcnvGIQMtPzz"
      }
    },
    {
      "cell_type": "markdown",
      "source": [
        "# **Validating Data**\n",
        "\n",
        "Pydantic automatically validates data when you create an instance of a model. If the data does not conform to the specified types, Pydantic raises a ValidationError."
      ],
      "metadata": {
        "id": "QdBv-U7PtZbP"
      }
    },
    {
      "cell_type": "markdown",
      "source": [
        "\n",
        "\n",
        "```\n",
        "try:\n",
        "    user = User(id=1, name='Alice', email='alice@example.com')\n",
        "    print(user)\n",
        "except ValidationError as e:\n",
        "    print(e.json())\n",
        "```\n",
        "\n"
      ],
      "metadata": {
        "id": "jRyGdPhytddA"
      }
    },
    {
      "cell_type": "markdown",
      "source": [
        "If you try to create a User instance with invalid data, such as:"
      ],
      "metadata": {
        "id": "vRTmsB6ftmq6"
      }
    },
    {
      "cell_type": "markdown",
      "source": [
        "\n",
        "\n",
        "```\n",
        "user = User(id='one', name='Alice', email='alice@example.com')\n",
        "```\n",
        "\n"
      ],
      "metadata": {
        "id": "Wjc1Zigitp4b"
      }
    },
    {
      "cell_type": "markdown",
      "source": [
        "Pydantic will raise a ValidationError because the id field expects an integer."
      ],
      "metadata": {
        "id": "G3d7jqdRtv_B"
      }
    },
    {
      "cell_type": "markdown",
      "source": [
        "# **Default Values and Optional Fields**\n",
        "\n",
        "You can specify default values for fields and use Optional to indicate that a field may be absent."
      ],
      "metadata": {
        "id": "Rzhj4Rv1t0YQ"
      }
    },
    {
      "cell_type": "markdown",
      "source": [
        "\n",
        "\n",
        "```\n",
        "from typing import Optional\n",
        "\n",
        "class User(BaseModel):\n",
        "    id: int\n",
        "    name: str\n",
        "    email: str\n",
        "    age: Optional[int] = None  # Default value is None\n",
        "```\n",
        "\n"
      ],
      "metadata": {
        "id": "f0Al74Trt_XO"
      }
    },
    {
      "cell_type": "markdown",
      "source": [
        "In this example, the age field is optional, and if not provided, it defaults to None."
      ],
      "metadata": {
        "id": "IxalW8RLuIak"
      }
    },
    {
      "cell_type": "markdown",
      "source": [
        "# **Custom Validators**\n",
        "\n",
        "Pydantic allows you to define custom validation logic using the @validator decorator. This is useful for implementing complex validation rules."
      ],
      "metadata": {
        "id": "zO13_QvIuWTC"
      }
    },
    {
      "cell_type": "markdown",
      "source": [
        "\n",
        "\n",
        "```\n",
        "from pydantic import BaseModel, validator\n",
        "\n",
        "class User(BaseModel):\n",
        "    id: int\n",
        "    name: str\n",
        "    email: str\n",
        "\n",
        "    @validator('email')\n",
        "    def email_must_be_valid(cls, value):\n",
        "        if '@' not in value:\n",
        "            raise ValueError('Invalid email address')\n",
        "        return value\n",
        "```\n",
        "\n"
      ],
      "metadata": {
        "id": "-lgRzhQfubJ3"
      }
    },
    {
      "cell_type": "markdown",
      "source": [
        "In this example, we defined a custom validator for the email field that checks if the email contains an @ symbol."
      ],
      "metadata": {
        "id": "j2Cs6s7fumgD"
      }
    },
    {
      "cell_type": "markdown",
      "source": [
        "# **Integrating Pydantic with Flask**"
      ],
      "metadata": {
        "id": "zRthSzJsvZoK"
      }
    },
    {
      "cell_type": "markdown",
      "source": [
        "Pydantic can be seamlessly integrated into Flask applications to validate incoming request data. Here’s how to do it:"
      ],
      "metadata": {
        "id": "zCtmdjHtvd5l"
      }
    },
    {
      "cell_type": "markdown",
      "source": [
        "# **Step 1: Create a Flask Application**\n",
        "\n",
        "Create a new directory for your Flask application:"
      ],
      "metadata": {
        "id": "jn-G3LQ5vg-j"
      }
    },
    {
      "cell_type": "markdown",
      "source": [
        "\n",
        "\n",
        "```\n",
        "flask_pydantic/\n",
        "│\n",
        "├── app.py\n",
        "└── requirements.txt\n",
        "```\n",
        "\n"
      ],
      "metadata": {
        "id": "DuKVShFnvmL0"
      }
    },
    {
      "cell_type": "markdown",
      "source": [
        "# **Step 2: Write the Application Code**\n",
        "\n",
        "In app.py, add the following code:"
      ],
      "metadata": {
        "id": "499WZv_bvtIM"
      }
    },
    {
      "cell_type": "markdown",
      "source": [
        "\n",
        "\n",
        "```\n",
        "from flask import Flask, request, jsonify\n",
        "from pydantic import BaseModel, ValidationError\n",
        "\n",
        "app = Flask(__name__)\n",
        "\n",
        "class User(BaseModel):\n",
        "    id: int\n",
        "    name: str\n",
        "    email: str\n",
        "\n",
        "@app.route('/users', methods=['POST'])\n",
        "def create_user():\n",
        "    try:\n",
        "        user_data = request.json\n",
        "        user = User(**user_data)  # Validate and create User instance\n",
        "        return jsonify(user.dict()), 201\n",
        "    except ValidationError as e:\n",
        "        return jsonify(e.errors()), 400\n",
        "\n",
        "if __name__ == '__main__':\n",
        "    app.run(debug=True)\n",
        "```\n",
        "\n"
      ],
      "metadata": {
        "id": "Dc7neN-3v2Qm"
      }
    },
    {
      "cell_type": "markdown",
      "source": [
        "# **Step 3: Run the Application**\n",
        "\n",
        "In your terminal, navigate to the flask_pydantic directory and run:"
      ],
      "metadata": {
        "id": "alnarhqQwCSi"
      }
    },
    {
      "cell_type": "markdown",
      "source": [
        "\n",
        "\n",
        "```\n",
        "pip install Flask pydantic\n",
        "python app.py\n",
        "```\n",
        "\n"
      ],
      "metadata": {
        "id": "nnxhK8l4wG39"
      }
    },
    {
      "cell_type": "markdown",
      "source": [
        "# **Step 4: Test the Endpoint**"
      ],
      "metadata": {
        "id": "6bUEk5MZwNFT"
      }
    },
    {
      "cell_type": "markdown",
      "source": [
        "**You can use a tool like Postman or cURL to test the /users endpoint. Send a POST request with the following JSON body:**"
      ],
      "metadata": {
        "id": "wI3vwx4hweYZ"
      }
    },
    {
      "cell_type": "markdown",
      "source": [
        "\n",
        "\n",
        "```\n",
        "{\n",
        "  \"id\": 1,\n",
        "  \"name\": \"Alice\",\n",
        "  \"email\": \"alice@example.com\"\n",
        "}\n",
        "```\n",
        "\n"
      ],
      "metadata": {
        "id": "so1UWLVbwjjh"
      }
    },
    {
      "cell_type": "markdown",
      "source": [
        "If the data is valid, you should receive a response with the created user:"
      ],
      "metadata": {
        "id": "XUHjEjIswrBP"
      }
    },
    {
      "cell_type": "markdown",
      "source": [
        "\n",
        "\n",
        "```\n",
        "{\n",
        "  \"id\": 1,\n",
        "  \"name\": \"Alice\",\n",
        "  \"email\": \"alice@example.com\"\n",
        "}\n",
        "```\n",
        "\n"
      ],
      "metadata": {
        "id": "KPcSpfmzwu7o"
      }
    },
    {
      "cell_type": "markdown",
      "source": [
        "If the data is invalid, such as missing the email field, you will receive a validation error response:"
      ],
      "metadata": {
        "id": "DzvvuqbYw02a"
      }
    },
    {
      "cell_type": "markdown",
      "source": [
        "\n",
        "\n",
        "```\n",
        "[\n",
        "  {\n",
        "    \"loc\": [\"email\"],\n",
        "    \"msg\": \"field required\",\n",
        "    \"type\": \"value_error.missing\"\n",
        "  }\n",
        "]\n",
        "```\n",
        "\n"
      ],
      "metadata": {
        "id": "vmRxQ8fJw4bw"
      }
    },
    {
      "cell_type": "markdown",
      "source": [
        "# **Conclusion**\n",
        "\n",
        "In this lesson, we explored type safety in Python using Pydantic. We learned how to create Pydantic models, validate data, define custom validators, and serialize/deserialize data. We also demonstrated how to integrate Pydantic with a Flask application to enforce data validation for incoming requests."
      ],
      "metadata": {
        "id": "gTELPOYMw9RX"
      }
    },
    {
      "cell_type": "code",
      "execution_count": null,
      "metadata": {
        "id": "m2ZMTC3EdhOQ"
      },
      "outputs": [],
      "source": []
    }
  ]
}